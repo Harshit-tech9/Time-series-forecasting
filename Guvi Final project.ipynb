{
 "cells": [
  {
   "cell_type": "markdown",
   "id": "5148eb5a",
   "metadata": {},
   "source": [
    "Importing all the necessary library"
   ]
  },
  {
   "cell_type": "code",
   "execution_count": 1,
   "id": "448acb44",
   "metadata": {},
   "outputs": [
    {
     "name": "stderr",
     "output_type": "stream",
     "text": [
      "Importing plotly failed. Interactive plots will not work.\n"
     ]
    }
   ],
   "source": [
    "import pandas as pd\n",
    "import numpy as np\n",
    "import matplotlib.pyplot as plt\n",
    "import seaborn as sns\n",
    "import itertools\n",
    "import json\n",
    "from fbprophet import Prophet\n",
    "from fbprophet.plot import add_changepoints_to_plot\n",
    "from fbprophet.diagnostics import cross_validation\n",
    "from fbprophet.diagnostics import performance_metrics\n",
    "from fbprophet.plot import plot_cross_validation_metric\n",
    "from fbprophet.serialize import model_to_json, model_from_json"
   ]
  },
  {
   "cell_type": "code",
   "execution_count": 2,
   "id": "e63bb95b",
   "metadata": {},
   "outputs": [
    {
     "data": {
      "text/html": [
       "<div>\n",
       "<style scoped>\n",
       "    .dataframe tbody tr th:only-of-type {\n",
       "        vertical-align: middle;\n",
       "    }\n",
       "\n",
       "    .dataframe tbody tr th {\n",
       "        vertical-align: top;\n",
       "    }\n",
       "\n",
       "    .dataframe thead th {\n",
       "        text-align: right;\n",
       "    }\n",
       "</style>\n",
       "<table border=\"1\" class=\"dataframe\">\n",
       "  <thead>\n",
       "    <tr style=\"text-align: right;\">\n",
       "      <th></th>\n",
       "      <th>date</th>\n",
       "      <th>store</th>\n",
       "      <th>item</th>\n",
       "      <th>sales</th>\n",
       "    </tr>\n",
       "  </thead>\n",
       "  <tbody>\n",
       "    <tr>\n",
       "      <th>0</th>\n",
       "      <td>2013-01-01</td>\n",
       "      <td>1</td>\n",
       "      <td>1</td>\n",
       "      <td>13</td>\n",
       "    </tr>\n",
       "    <tr>\n",
       "      <th>1</th>\n",
       "      <td>2013-01-02</td>\n",
       "      <td>1</td>\n",
       "      <td>1</td>\n",
       "      <td>11</td>\n",
       "    </tr>\n",
       "    <tr>\n",
       "      <th>2</th>\n",
       "      <td>2013-01-03</td>\n",
       "      <td>1</td>\n",
       "      <td>1</td>\n",
       "      <td>14</td>\n",
       "    </tr>\n",
       "    <tr>\n",
       "      <th>3</th>\n",
       "      <td>2013-01-04</td>\n",
       "      <td>1</td>\n",
       "      <td>1</td>\n",
       "      <td>13</td>\n",
       "    </tr>\n",
       "    <tr>\n",
       "      <th>4</th>\n",
       "      <td>2013-01-05</td>\n",
       "      <td>1</td>\n",
       "      <td>1</td>\n",
       "      <td>10</td>\n",
       "    </tr>\n",
       "  </tbody>\n",
       "</table>\n",
       "</div>"
      ],
      "text/plain": [
       "         date  store  item  sales\n",
       "0  2013-01-01      1     1     13\n",
       "1  2013-01-02      1     1     11\n",
       "2  2013-01-03      1     1     14\n",
       "3  2013-01-04      1     1     13\n",
       "4  2013-01-05      1     1     10"
      ]
     },
     "execution_count": 2,
     "metadata": {},
     "output_type": "execute_result"
    }
   ],
   "source": [
    "data = pd.read_csv('train 2.csv')\n",
    "data.head()"
   ]
  },
  {
   "cell_type": "code",
   "execution_count": 3,
   "id": "9b57f951",
   "metadata": {},
   "outputs": [
    {
     "data": {
      "text/html": [
       "<div>\n",
       "<style scoped>\n",
       "    .dataframe tbody tr th:only-of-type {\n",
       "        vertical-align: middle;\n",
       "    }\n",
       "\n",
       "    .dataframe tbody tr th {\n",
       "        vertical-align: top;\n",
       "    }\n",
       "\n",
       "    .dataframe thead th {\n",
       "        text-align: right;\n",
       "    }\n",
       "</style>\n",
       "<table border=\"1\" class=\"dataframe\">\n",
       "  <thead>\n",
       "    <tr style=\"text-align: right;\">\n",
       "      <th></th>\n",
       "      <th>date</th>\n",
       "      <th>store</th>\n",
       "      <th>item</th>\n",
       "      <th>sales</th>\n",
       "    </tr>\n",
       "  </thead>\n",
       "  <tbody>\n",
       "    <tr>\n",
       "      <th>912995</th>\n",
       "      <td>2017-12-27</td>\n",
       "      <td>10</td>\n",
       "      <td>50</td>\n",
       "      <td>63</td>\n",
       "    </tr>\n",
       "    <tr>\n",
       "      <th>912996</th>\n",
       "      <td>2017-12-28</td>\n",
       "      <td>10</td>\n",
       "      <td>50</td>\n",
       "      <td>59</td>\n",
       "    </tr>\n",
       "    <tr>\n",
       "      <th>912997</th>\n",
       "      <td>2017-12-29</td>\n",
       "      <td>10</td>\n",
       "      <td>50</td>\n",
       "      <td>74</td>\n",
       "    </tr>\n",
       "    <tr>\n",
       "      <th>912998</th>\n",
       "      <td>2017-12-30</td>\n",
       "      <td>10</td>\n",
       "      <td>50</td>\n",
       "      <td>62</td>\n",
       "    </tr>\n",
       "    <tr>\n",
       "      <th>912999</th>\n",
       "      <td>2017-12-31</td>\n",
       "      <td>10</td>\n",
       "      <td>50</td>\n",
       "      <td>82</td>\n",
       "    </tr>\n",
       "  </tbody>\n",
       "</table>\n",
       "</div>"
      ],
      "text/plain": [
       "              date  store  item  sales\n",
       "912995  2017-12-27     10    50     63\n",
       "912996  2017-12-28     10    50     59\n",
       "912997  2017-12-29     10    50     74\n",
       "912998  2017-12-30     10    50     62\n",
       "912999  2017-12-31     10    50     82"
      ]
     },
     "execution_count": 3,
     "metadata": {},
     "output_type": "execute_result"
    }
   ],
   "source": [
    "data.tail()"
   ]
  },
  {
   "cell_type": "code",
   "execution_count": 4,
   "id": "12c2ab23",
   "metadata": {},
   "outputs": [
    {
     "name": "stdout",
     "output_type": "stream",
     "text": [
      "<class 'pandas.core.frame.DataFrame'>\n",
      "RangeIndex: 913000 entries, 0 to 912999\n",
      "Data columns (total 4 columns):\n",
      " #   Column  Non-Null Count   Dtype \n",
      "---  ------  --------------   ----- \n",
      " 0   date    913000 non-null  object\n",
      " 1   store   913000 non-null  int64 \n",
      " 2   item    913000 non-null  int64 \n",
      " 3   sales   913000 non-null  int64 \n",
      "dtypes: int64(3), object(1)\n",
      "memory usage: 27.9+ MB\n"
     ]
    }
   ],
   "source": [
    "data.info()"
   ]
  },
  {
   "cell_type": "code",
   "execution_count": 5,
   "id": "acf55da8",
   "metadata": {},
   "outputs": [
    {
     "data": {
      "text/html": [
       "<div>\n",
       "<style scoped>\n",
       "    .dataframe tbody tr th:only-of-type {\n",
       "        vertical-align: middle;\n",
       "    }\n",
       "\n",
       "    .dataframe tbody tr th {\n",
       "        vertical-align: top;\n",
       "    }\n",
       "\n",
       "    .dataframe thead th {\n",
       "        text-align: right;\n",
       "    }\n",
       "</style>\n",
       "<table border=\"1\" class=\"dataframe\">\n",
       "  <thead>\n",
       "    <tr style=\"text-align: right;\">\n",
       "      <th></th>\n",
       "      <th>store</th>\n",
       "      <th>item</th>\n",
       "      <th>sales</th>\n",
       "    </tr>\n",
       "  </thead>\n",
       "  <tbody>\n",
       "    <tr>\n",
       "      <th>count</th>\n",
       "      <td>913000.000000</td>\n",
       "      <td>913000.000000</td>\n",
       "      <td>913000.000000</td>\n",
       "    </tr>\n",
       "    <tr>\n",
       "      <th>mean</th>\n",
       "      <td>5.500000</td>\n",
       "      <td>25.500000</td>\n",
       "      <td>52.250287</td>\n",
       "    </tr>\n",
       "    <tr>\n",
       "      <th>std</th>\n",
       "      <td>2.872283</td>\n",
       "      <td>14.430878</td>\n",
       "      <td>28.801144</td>\n",
       "    </tr>\n",
       "    <tr>\n",
       "      <th>min</th>\n",
       "      <td>1.000000</td>\n",
       "      <td>1.000000</td>\n",
       "      <td>0.000000</td>\n",
       "    </tr>\n",
       "    <tr>\n",
       "      <th>25%</th>\n",
       "      <td>3.000000</td>\n",
       "      <td>13.000000</td>\n",
       "      <td>30.000000</td>\n",
       "    </tr>\n",
       "    <tr>\n",
       "      <th>50%</th>\n",
       "      <td>5.500000</td>\n",
       "      <td>25.500000</td>\n",
       "      <td>47.000000</td>\n",
       "    </tr>\n",
       "    <tr>\n",
       "      <th>75%</th>\n",
       "      <td>8.000000</td>\n",
       "      <td>38.000000</td>\n",
       "      <td>70.000000</td>\n",
       "    </tr>\n",
       "    <tr>\n",
       "      <th>max</th>\n",
       "      <td>10.000000</td>\n",
       "      <td>50.000000</td>\n",
       "      <td>231.000000</td>\n",
       "    </tr>\n",
       "  </tbody>\n",
       "</table>\n",
       "</div>"
      ],
      "text/plain": [
       "               store           item          sales\n",
       "count  913000.000000  913000.000000  913000.000000\n",
       "mean        5.500000      25.500000      52.250287\n",
       "std         2.872283      14.430878      28.801144\n",
       "min         1.000000       1.000000       0.000000\n",
       "25%         3.000000      13.000000      30.000000\n",
       "50%         5.500000      25.500000      47.000000\n",
       "75%         8.000000      38.000000      70.000000\n",
       "max        10.000000      50.000000     231.000000"
      ]
     },
     "execution_count": 5,
     "metadata": {},
     "output_type": "execute_result"
    }
   ],
   "source": [
    "data.describe()"
   ]
  },
  {
   "cell_type": "code",
   "execution_count": 6,
   "id": "454be935",
   "metadata": {},
   "outputs": [
    {
     "data": {
      "text/plain": [
       "date     1826\n",
       "store      10\n",
       "item       50\n",
       "sales     213\n",
       "dtype: int64"
      ]
     },
     "execution_count": 6,
     "metadata": {},
     "output_type": "execute_result"
    }
   ],
   "source": [
    "data.nunique()"
   ]
  },
  {
   "cell_type": "code",
   "execution_count": 7,
   "id": "4fab056b",
   "metadata": {},
   "outputs": [
    {
     "data": {
      "text/plain": [
       "array([ 1,  2,  3,  4,  5,  6,  7,  8,  9, 10, 11, 12, 13, 14, 15, 16, 17,\n",
       "       18, 19, 20, 21, 22, 23, 24, 25, 26, 27, 28, 29, 30, 31, 32, 33, 34,\n",
       "       35, 36, 37, 38, 39, 40, 41, 42, 43, 44, 45, 46, 47, 48, 49, 50],\n",
       "      dtype=int64)"
      ]
     },
     "execution_count": 7,
     "metadata": {},
     "output_type": "execute_result"
    }
   ],
   "source": [
    "data.item.unique()"
   ]
  },
  {
   "cell_type": "markdown",
   "id": "9a1af219",
   "metadata": {},
   "source": [
    "We observe that date column is in object format we will convert it to datetimestamp"
   ]
  },
  {
   "cell_type": "code",
   "execution_count": 8,
   "id": "a3221481",
   "metadata": {},
   "outputs": [],
   "source": [
    "data.date = pd.to_datetime(data['date'])"
   ]
  },
  {
   "cell_type": "code",
   "execution_count": 9,
   "id": "540ac008",
   "metadata": {},
   "outputs": [
    {
     "name": "stdout",
     "output_type": "stream",
     "text": [
      "<class 'pandas.core.frame.DataFrame'>\n",
      "RangeIndex: 913000 entries, 0 to 912999\n",
      "Data columns (total 4 columns):\n",
      " #   Column  Non-Null Count   Dtype         \n",
      "---  ------  --------------   -----         \n",
      " 0   date    913000 non-null  datetime64[ns]\n",
      " 1   store   913000 non-null  int64         \n",
      " 2   item    913000 non-null  int64         \n",
      " 3   sales   913000 non-null  int64         \n",
      "dtypes: datetime64[ns](1), int64(3)\n",
      "memory usage: 27.9 MB\n"
     ]
    }
   ],
   "source": [
    "data.info()"
   ]
  },
  {
   "cell_type": "code",
   "execution_count": 10,
   "id": "fd4980f9",
   "metadata": {},
   "outputs": [
    {
     "data": {
      "text/html": [
       "<div>\n",
       "<style scoped>\n",
       "    .dataframe tbody tr th:only-of-type {\n",
       "        vertical-align: middle;\n",
       "    }\n",
       "\n",
       "    .dataframe tbody tr th {\n",
       "        vertical-align: top;\n",
       "    }\n",
       "\n",
       "    .dataframe thead th {\n",
       "        text-align: right;\n",
       "    }\n",
       "</style>\n",
       "<table border=\"1\" class=\"dataframe\">\n",
       "  <thead>\n",
       "    <tr style=\"text-align: right;\">\n",
       "      <th></th>\n",
       "      <th>date</th>\n",
       "      <th>store</th>\n",
       "      <th>item</th>\n",
       "      <th>sales</th>\n",
       "    </tr>\n",
       "  </thead>\n",
       "  <tbody>\n",
       "    <tr>\n",
       "      <th>0</th>\n",
       "      <td>2013-01-01</td>\n",
       "      <td>1</td>\n",
       "      <td>1</td>\n",
       "      <td>13</td>\n",
       "    </tr>\n",
       "    <tr>\n",
       "      <th>1</th>\n",
       "      <td>2013-01-02</td>\n",
       "      <td>1</td>\n",
       "      <td>1</td>\n",
       "      <td>11</td>\n",
       "    </tr>\n",
       "    <tr>\n",
       "      <th>2</th>\n",
       "      <td>2013-01-03</td>\n",
       "      <td>1</td>\n",
       "      <td>1</td>\n",
       "      <td>14</td>\n",
       "    </tr>\n",
       "    <tr>\n",
       "      <th>3</th>\n",
       "      <td>2013-01-04</td>\n",
       "      <td>1</td>\n",
       "      <td>1</td>\n",
       "      <td>13</td>\n",
       "    </tr>\n",
       "    <tr>\n",
       "      <th>4</th>\n",
       "      <td>2013-01-05</td>\n",
       "      <td>1</td>\n",
       "      <td>1</td>\n",
       "      <td>10</td>\n",
       "    </tr>\n",
       "    <tr>\n",
       "      <th>...</th>\n",
       "      <td>...</td>\n",
       "      <td>...</td>\n",
       "      <td>...</td>\n",
       "      <td>...</td>\n",
       "    </tr>\n",
       "    <tr>\n",
       "      <th>912995</th>\n",
       "      <td>2017-12-27</td>\n",
       "      <td>10</td>\n",
       "      <td>50</td>\n",
       "      <td>63</td>\n",
       "    </tr>\n",
       "    <tr>\n",
       "      <th>912996</th>\n",
       "      <td>2017-12-28</td>\n",
       "      <td>10</td>\n",
       "      <td>50</td>\n",
       "      <td>59</td>\n",
       "    </tr>\n",
       "    <tr>\n",
       "      <th>912997</th>\n",
       "      <td>2017-12-29</td>\n",
       "      <td>10</td>\n",
       "      <td>50</td>\n",
       "      <td>74</td>\n",
       "    </tr>\n",
       "    <tr>\n",
       "      <th>912998</th>\n",
       "      <td>2017-12-30</td>\n",
       "      <td>10</td>\n",
       "      <td>50</td>\n",
       "      <td>62</td>\n",
       "    </tr>\n",
       "    <tr>\n",
       "      <th>912999</th>\n",
       "      <td>2017-12-31</td>\n",
       "      <td>10</td>\n",
       "      <td>50</td>\n",
       "      <td>82</td>\n",
       "    </tr>\n",
       "  </tbody>\n",
       "</table>\n",
       "<p>913000 rows × 4 columns</p>\n",
       "</div>"
      ],
      "text/plain": [
       "             date  store  item  sales\n",
       "0      2013-01-01      1     1     13\n",
       "1      2013-01-02      1     1     11\n",
       "2      2013-01-03      1     1     14\n",
       "3      2013-01-04      1     1     13\n",
       "4      2013-01-05      1     1     10\n",
       "...           ...    ...   ...    ...\n",
       "912995 2017-12-27     10    50     63\n",
       "912996 2017-12-28     10    50     59\n",
       "912997 2017-12-29     10    50     74\n",
       "912998 2017-12-30     10    50     62\n",
       "912999 2017-12-31     10    50     82\n",
       "\n",
       "[913000 rows x 4 columns]"
      ]
     },
     "execution_count": 10,
     "metadata": {},
     "output_type": "execute_result"
    }
   ],
   "source": [
    "data"
   ]
  },
  {
   "cell_type": "code",
   "execution_count": 11,
   "id": "343a2ec6",
   "metadata": {},
   "outputs": [
    {
     "data": {
      "image/png": "[encoded data removed]",
      "text/plain": [
       "<Figure size 432x288 with 1 Axes>"
      ]
     },
     "metadata": {
      "needs_background": "light"
     },
     "output_type": "display_data"
    }
   ],
   "source": [
    "sns.lineplot(x='date',y='sales', data=data)\n",
    "plt.show()"
   ]
  },
  {
   "cell_type": "markdown",
   "id": "7af6df8a",
   "metadata": {},
   "source": [
    "We can observe that all the 50 items is shwing similiar trends. They are rising in mid of year and dropping at the end of year."
   ]
  },
  {
   "cell_type": "markdown",
   "id": "8660a459",
   "metadata": {},
   "source": [
    "Now we will tale item 1 from the main data frame."
   ]
  },
  {
   "cell_type": "code",
   "execution_count": 12,
   "id": "87864bfb",
   "metadata": {},
   "outputs": [
    {
     "data": {
      "text/html": [
       "<div>\n",
       "<style scoped>\n",
       "    .dataframe tbody tr th:only-of-type {\n",
       "        vertical-align: middle;\n",
       "    }\n",
       "\n",
       "    .dataframe tbody tr th {\n",
       "        vertical-align: top;\n",
       "    }\n",
       "\n",
       "    .dataframe thead th {\n",
       "        text-align: right;\n",
       "    }\n",
       "</style>\n",
       "<table border=\"1\" class=\"dataframe\">\n",
       "  <thead>\n",
       "    <tr style=\"text-align: right;\">\n",
       "      <th></th>\n",
       "      <th>date</th>\n",
       "      <th>store</th>\n",
       "      <th>item</th>\n",
       "      <th>sales</th>\n",
       "    </tr>\n",
       "  </thead>\n",
       "  <tbody>\n",
       "    <tr>\n",
       "      <th>18255</th>\n",
       "      <td>2017-12-27</td>\n",
       "      <td>10</td>\n",
       "      <td>1</td>\n",
       "      <td>19</td>\n",
       "    </tr>\n",
       "    <tr>\n",
       "      <th>18256</th>\n",
       "      <td>2017-12-28</td>\n",
       "      <td>10</td>\n",
       "      <td>1</td>\n",
       "      <td>12</td>\n",
       "    </tr>\n",
       "    <tr>\n",
       "      <th>18257</th>\n",
       "      <td>2017-12-29</td>\n",
       "      <td>10</td>\n",
       "      <td>1</td>\n",
       "      <td>23</td>\n",
       "    </tr>\n",
       "    <tr>\n",
       "      <th>18258</th>\n",
       "      <td>2017-12-30</td>\n",
       "      <td>10</td>\n",
       "      <td>1</td>\n",
       "      <td>26</td>\n",
       "    </tr>\n",
       "    <tr>\n",
       "      <th>18259</th>\n",
       "      <td>2017-12-31</td>\n",
       "      <td>10</td>\n",
       "      <td>1</td>\n",
       "      <td>27</td>\n",
       "    </tr>\n",
       "  </tbody>\n",
       "</table>\n",
       "</div>"
      ],
      "text/plain": [
       "            date  store  item  sales\n",
       "18255 2017-12-27     10     1     19\n",
       "18256 2017-12-28     10     1     12\n",
       "18257 2017-12-29     10     1     23\n",
       "18258 2017-12-30     10     1     26\n",
       "18259 2017-12-31     10     1     27"
      ]
     },
     "execution_count": 12,
     "metadata": {},
     "output_type": "execute_result"
    }
   ],
   "source": [
    "data_item_1 = data[data['item'] == 1]\n",
    "data_item_1.tail()"
   ]
  },
  {
   "cell_type": "code",
   "execution_count": 13,
   "id": "186dde5c",
   "metadata": {},
   "outputs": [],
   "source": [
    "# plt.figure(figsize=(25,20))\n",
    "# sns.lineplot(x='date',y='sales', data=data_item_1)\n",
    "# plt.show()"
   ]
  },
  {
   "cell_type": "code",
   "execution_count": 14,
   "id": "da2acd9f",
   "metadata": {},
   "outputs": [],
   "source": [
    "# plt.figure(figsize=(15,20))\n",
    "# sns.lineplot(data=data_item_1, x='date', y='sales', hue = 'date',legend='full')\n",
    "# plt.title('Seasonal Plot')\n",
    "# plt.show()"
   ]
  },
  {
   "cell_type": "code",
   "execution_count": 15,
   "id": "58a89a82",
   "metadata": {},
   "outputs": [],
   "source": [
    "# plt.figure(figsize=(80,40))\n",
    "# sns.lineplot(data=data_item_1, x='date', y='sales', hue = 'store',legend='full')\n",
    "# plt.title('Seasonal Plot')\n",
    "# plt.show()"
   ]
  },
  {
   "cell_type": "markdown",
   "id": "3f0d2571",
   "metadata": {},
   "source": [
    "1. Above two figure describes about the trends in sales in all stores, from this we can say that the demands started picking up slowly from starting of year and reaches it peak at mid of year and from then on demands start droppings there on and reaches at its low at year end.\n",
    "2. This figure also tolds that the sales are increasing year on year from 2013 to 2017."
   ]
  },
  {
   "cell_type": "code",
   "execution_count": 16,
   "id": "329a819e",
   "metadata": {},
   "outputs": [
    {
     "data": {
      "text/html": [
       "<div>\n",
       "<style scoped>\n",
       "    .dataframe tbody tr th:only-of-type {\n",
       "        vertical-align: middle;\n",
       "    }\n",
       "\n",
       "    .dataframe tbody tr th {\n",
       "        vertical-align: top;\n",
       "    }\n",
       "\n",
       "    .dataframe thead th {\n",
       "        text-align: right;\n",
       "    }\n",
       "</style>\n",
       "<table border=\"1\" class=\"dataframe\">\n",
       "  <thead>\n",
       "    <tr style=\"text-align: right;\">\n",
       "      <th></th>\n",
       "      <th>store</th>\n",
       "      <th>item</th>\n",
       "      <th>sales</th>\n",
       "    </tr>\n",
       "  </thead>\n",
       "  <tbody>\n",
       "    <tr>\n",
       "      <th>count</th>\n",
       "      <td>18260.00000</td>\n",
       "      <td>18260.0</td>\n",
       "      <td>18260.000000</td>\n",
       "    </tr>\n",
       "    <tr>\n",
       "      <th>mean</th>\n",
       "      <td>5.50000</td>\n",
       "      <td>1.0</td>\n",
       "      <td>21.981599</td>\n",
       "    </tr>\n",
       "    <tr>\n",
       "      <th>std</th>\n",
       "      <td>2.87236</td>\n",
       "      <td>0.0</td>\n",
       "      <td>8.468922</td>\n",
       "    </tr>\n",
       "    <tr>\n",
       "      <th>min</th>\n",
       "      <td>1.00000</td>\n",
       "      <td>1.0</td>\n",
       "      <td>1.000000</td>\n",
       "    </tr>\n",
       "    <tr>\n",
       "      <th>25%</th>\n",
       "      <td>3.00000</td>\n",
       "      <td>1.0</td>\n",
       "      <td>16.000000</td>\n",
       "    </tr>\n",
       "    <tr>\n",
       "      <th>50%</th>\n",
       "      <td>5.50000</td>\n",
       "      <td>1.0</td>\n",
       "      <td>21.000000</td>\n",
       "    </tr>\n",
       "    <tr>\n",
       "      <th>75%</th>\n",
       "      <td>8.00000</td>\n",
       "      <td>1.0</td>\n",
       "      <td>27.000000</td>\n",
       "    </tr>\n",
       "    <tr>\n",
       "      <th>max</th>\n",
       "      <td>10.00000</td>\n",
       "      <td>1.0</td>\n",
       "      <td>59.000000</td>\n",
       "    </tr>\n",
       "  </tbody>\n",
       "</table>\n",
       "</div>"
      ],
      "text/plain": [
       "             store     item         sales\n",
       "count  18260.00000  18260.0  18260.000000\n",
       "mean       5.50000      1.0     21.981599\n",
       "std        2.87236      0.0      8.468922\n",
       "min        1.00000      1.0      1.000000\n",
       "25%        3.00000      1.0     16.000000\n",
       "50%        5.50000      1.0     21.000000\n",
       "75%        8.00000      1.0     27.000000\n",
       "max       10.00000      1.0     59.000000"
      ]
     },
     "execution_count": 16,
     "metadata": {},
     "output_type": "execute_result"
    }
   ],
   "source": [
    "data_item_1.describe()"
   ]
  },
  {
   "cell_type": "code",
   "execution_count": 17,
   "id": "a9f7ea81",
   "metadata": {
    "scrolled": true
   },
   "outputs": [
    {
     "name": "stdout",
     "output_type": "stream",
     "text": [
      "<class 'pandas.core.frame.DataFrame'>\n",
      "Int64Index: 18260 entries, 0 to 18259\n",
      "Data columns (total 4 columns):\n",
      " #   Column  Non-Null Count  Dtype         \n",
      "---  ------  --------------  -----         \n",
      " 0   date    18260 non-null  datetime64[ns]\n",
      " 1   store   18260 non-null  int64         \n",
      " 2   item    18260 non-null  int64         \n",
      " 3   sales   18260 non-null  int64         \n",
      "dtypes: datetime64[ns](1), int64(3)\n",
      "memory usage: 713.3 KB\n"
     ]
    }
   ],
   "source": [
    "data_item_1.info()"
   ]
  },
  {
   "cell_type": "code",
   "execution_count": 18,
   "id": "2f2d0b7b",
   "metadata": {},
   "outputs": [
    {
     "data": {
      "text/html": [
       "<div>\n",
       "<style scoped>\n",
       "    .dataframe tbody tr th:only-of-type {\n",
       "        vertical-align: middle;\n",
       "    }\n",
       "\n",
       "    .dataframe tbody tr th {\n",
       "        vertical-align: top;\n",
       "    }\n",
       "\n",
       "    .dataframe thead th {\n",
       "        text-align: right;\n",
       "    }\n",
       "</style>\n",
       "<table border=\"1\" class=\"dataframe\">\n",
       "  <thead>\n",
       "    <tr style=\"text-align: right;\">\n",
       "      <th></th>\n",
       "      <th>date</th>\n",
       "      <th>store</th>\n",
       "      <th>item</th>\n",
       "      <th>sales</th>\n",
       "    </tr>\n",
       "  </thead>\n",
       "  <tbody>\n",
       "    <tr>\n",
       "      <th>0</th>\n",
       "      <td>2013-01-01</td>\n",
       "      <td>1</td>\n",
       "      <td>1</td>\n",
       "      <td>13</td>\n",
       "    </tr>\n",
       "    <tr>\n",
       "      <th>1</th>\n",
       "      <td>2013-01-02</td>\n",
       "      <td>1</td>\n",
       "      <td>1</td>\n",
       "      <td>11</td>\n",
       "    </tr>\n",
       "    <tr>\n",
       "      <th>2</th>\n",
       "      <td>2013-01-03</td>\n",
       "      <td>1</td>\n",
       "      <td>1</td>\n",
       "      <td>14</td>\n",
       "    </tr>\n",
       "    <tr>\n",
       "      <th>3</th>\n",
       "      <td>2013-01-04</td>\n",
       "      <td>1</td>\n",
       "      <td>1</td>\n",
       "      <td>13</td>\n",
       "    </tr>\n",
       "    <tr>\n",
       "      <th>4</th>\n",
       "      <td>2013-01-05</td>\n",
       "      <td>1</td>\n",
       "      <td>1</td>\n",
       "      <td>10</td>\n",
       "    </tr>\n",
       "    <tr>\n",
       "      <th>...</th>\n",
       "      <td>...</td>\n",
       "      <td>...</td>\n",
       "      <td>...</td>\n",
       "      <td>...</td>\n",
       "    </tr>\n",
       "    <tr>\n",
       "      <th>18255</th>\n",
       "      <td>2017-12-27</td>\n",
       "      <td>10</td>\n",
       "      <td>1</td>\n",
       "      <td>19</td>\n",
       "    </tr>\n",
       "    <tr>\n",
       "      <th>18256</th>\n",
       "      <td>2017-12-28</td>\n",
       "      <td>10</td>\n",
       "      <td>1</td>\n",
       "      <td>12</td>\n",
       "    </tr>\n",
       "    <tr>\n",
       "      <th>18257</th>\n",
       "      <td>2017-12-29</td>\n",
       "      <td>10</td>\n",
       "      <td>1</td>\n",
       "      <td>23</td>\n",
       "    </tr>\n",
       "    <tr>\n",
       "      <th>18258</th>\n",
       "      <td>2017-12-30</td>\n",
       "      <td>10</td>\n",
       "      <td>1</td>\n",
       "      <td>26</td>\n",
       "    </tr>\n",
       "    <tr>\n",
       "      <th>18259</th>\n",
       "      <td>2017-12-31</td>\n",
       "      <td>10</td>\n",
       "      <td>1</td>\n",
       "      <td>27</td>\n",
       "    </tr>\n",
       "  </tbody>\n",
       "</table>\n",
       "<p>18260 rows × 4 columns</p>\n",
       "</div>"
      ],
      "text/plain": [
       "            date  store  item  sales\n",
       "0     2013-01-01      1     1     13\n",
       "1     2013-01-02      1     1     11\n",
       "2     2013-01-03      1     1     14\n",
       "3     2013-01-04      1     1     13\n",
       "4     2013-01-05      1     1     10\n",
       "...          ...    ...   ...    ...\n",
       "18255 2017-12-27     10     1     19\n",
       "18256 2017-12-28     10     1     12\n",
       "18257 2017-12-29     10     1     23\n",
       "18258 2017-12-30     10     1     26\n",
       "18259 2017-12-31     10     1     27\n",
       "\n",
       "[18260 rows x 4 columns]"
      ]
     },
     "execution_count": 18,
     "metadata": {},
     "output_type": "execute_result"
    }
   ],
   "source": [
    "data_item_1"
   ]
  },
  {
   "cell_type": "markdown",
   "id": "b4305cd1",
   "metadata": {},
   "source": [
    "Now we will perform the dimensionality reduction and will remove the store and item from the data_item_1 so we can clearly visualize the relation between date and sales."
   ]
  },
  {
   "cell_type": "code",
   "execution_count": 19,
   "id": "1120ca93",
   "metadata": {},
   "outputs": [
    {
     "data": {
      "text/html": [
       "<div>\n",
       "<style scoped>\n",
       "    .dataframe tbody tr th:only-of-type {\n",
       "        vertical-align: middle;\n",
       "    }\n",
       "\n",
       "    .dataframe tbody tr th {\n",
       "        vertical-align: top;\n",
       "    }\n",
       "\n",
       "    .dataframe thead th {\n",
       "        text-align: right;\n",
       "    }\n",
       "</style>\n",
       "<table border=\"1\" class=\"dataframe\">\n",
       "  <thead>\n",
       "    <tr style=\"text-align: right;\">\n",
       "      <th></th>\n",
       "      <th>date</th>\n",
       "      <th>sales</th>\n",
       "    </tr>\n",
       "  </thead>\n",
       "  <tbody>\n",
       "    <tr>\n",
       "      <th>18255</th>\n",
       "      <td>2017-12-27</td>\n",
       "      <td>19</td>\n",
       "    </tr>\n",
       "    <tr>\n",
       "      <th>18256</th>\n",
       "      <td>2017-12-28</td>\n",
       "      <td>12</td>\n",
       "    </tr>\n",
       "    <tr>\n",
       "      <th>18257</th>\n",
       "      <td>2017-12-29</td>\n",
       "      <td>23</td>\n",
       "    </tr>\n",
       "    <tr>\n",
       "      <th>18258</th>\n",
       "      <td>2017-12-30</td>\n",
       "      <td>26</td>\n",
       "    </tr>\n",
       "    <tr>\n",
       "      <th>18259</th>\n",
       "      <td>2017-12-31</td>\n",
       "      <td>27</td>\n",
       "    </tr>\n",
       "  </tbody>\n",
       "</table>\n",
       "</div>"
      ],
      "text/plain": [
       "            date  sales\n",
       "18255 2017-12-27     19\n",
       "18256 2017-12-28     12\n",
       "18257 2017-12-29     23\n",
       "18258 2017-12-30     26\n",
       "18259 2017-12-31     27"
      ]
     },
     "execution_count": 19,
     "metadata": {},
     "output_type": "execute_result"
    }
   ],
   "source": [
    "item_1 = data_item_1.drop(['store','item'], axis=1)\n",
    "item_1.tail()"
   ]
  },
  {
   "cell_type": "markdown",
   "id": "fee0856e",
   "metadata": {},
   "source": [
    "Here we will set date column as an index"
   ]
  },
  {
   "cell_type": "code",
   "execution_count": 20,
   "id": "7f0ff24d",
   "metadata": {},
   "outputs": [
    {
     "data": {
      "text/plain": [
       "DatetimeIndex(['2013-01-01', '2013-01-02', '2013-01-03', '2013-01-04',\n",
       "               '2013-01-05', '2013-01-06', '2013-01-07', '2013-01-08',\n",
       "               '2013-01-09', '2013-01-10',\n",
       "               ...\n",
       "               '2017-12-22', '2017-12-23', '2017-12-24', '2017-12-25',\n",
       "               '2017-12-26', '2017-12-27', '2017-12-28', '2017-12-29',\n",
       "               '2017-12-30', '2017-12-31'],\n",
       "              dtype='datetime64[ns]', name='date', length=18260, freq=None)"
      ]
     },
     "execution_count": 20,
     "metadata": {},
     "output_type": "execute_result"
    }
   ],
   "source": [
    "item_1_sales = item_1.set_index('date')\n",
    "item_1_sales.index"
   ]
  },
  {
   "cell_type": "markdown",
   "id": "00991618",
   "metadata": {},
   "source": [
    "Now we will take monthly mean of sales in every month."
   ]
  },
  {
   "cell_type": "code",
   "execution_count": 21,
   "id": "d3fb58ac",
   "metadata": {},
   "outputs": [],
   "source": [
    "y = item_1_sales['sales'].resample('MS').mean()"
   ]
  },
  {
   "cell_type": "code",
   "execution_count": 22,
   "id": "9668e574",
   "metadata": {},
   "outputs": [
    {
     "name": "stdout",
     "output_type": "stream",
     "text": [
      "date\n",
      "2013-01-01    12.238710\n",
      "2013-02-01    13.796429\n",
      "2013-03-01    16.741935\n",
      "2013-04-01    19.276667\n",
      "2013-05-01    20.316129\n",
      "2013-06-01    22.463333\n",
      "2013-07-01    22.925806\n",
      "2013-08-01    20.941935\n",
      "2013-09-01    18.976667\n",
      "2013-10-01    17.732258\n",
      "2013-11-01    19.860000\n",
      "2013-12-01    13.900000\n",
      "2014-01-01    13.945161\n",
      "2014-02-01    15.682143\n",
      "2014-03-01    18.903226\n",
      "2014-04-01    21.840000\n",
      "2014-05-01    23.774194\n",
      "2014-06-01    26.293333\n",
      "2014-07-01    26.870968\n",
      "2014-08-01    23.874194\n",
      "2014-09-01    21.996667\n",
      "2014-10-01    20.680645\n",
      "2014-11-01    22.473333\n",
      "2014-12-01    15.838710\n",
      "2015-01-01    14.922581\n",
      "2015-02-01    16.546429\n",
      "2015-03-01    19.745161\n",
      "2015-04-01    23.533333\n",
      "2015-05-01    25.025806\n",
      "2015-06-01    26.640000\n",
      "2015-07-01    28.509677\n",
      "2015-08-01    25.064516\n",
      "2015-09-01    23.370000\n",
      "2015-10-01    21.432258\n",
      "2015-11-01    23.673333\n",
      "2015-12-01    15.974194\n",
      "2016-01-01    16.154839\n",
      "2016-02-01    17.793103\n",
      "2016-03-01    21.367742\n",
      "2016-04-01    25.656667\n",
      "2016-05-01    26.580645\n",
      "2016-06-01    29.503333\n",
      "2016-07-01    31.477419\n",
      "2016-08-01    26.374194\n",
      "2016-09-01    24.890000\n",
      "2016-10-01    23.325806\n",
      "2016-11-01    24.446667\n",
      "2016-12-01    18.316129\n",
      "2017-01-01    16.890323\n",
      "2017-02-01    18.925000\n",
      "2017-03-01    21.754839\n",
      "2017-04-01    26.423333\n",
      "2017-05-01    27.616129\n",
      "2017-06-01    29.766667\n",
      "2017-07-01    32.129032\n",
      "2017-08-01    27.574194\n",
      "2017-09-01    26.143333\n",
      "2017-10-01    24.580645\n",
      "2017-11-01    25.586667\n",
      "2017-12-01    18.738710\n",
      "Freq: MS, Name: sales, dtype: float64\n"
     ]
    }
   ],
   "source": [
    "print(y)"
   ]
  },
  {
   "cell_type": "code",
   "execution_count": 23,
   "id": "8f4f9906",
   "metadata": {},
   "outputs": [
    {
     "data": {
      "text/plain": [
       "date\n",
       "2013-01-01    12.238710\n",
       "2013-02-01    13.796429\n",
       "2013-03-01    16.741935\n",
       "2013-04-01    19.276667\n",
       "2013-05-01    20.316129\n",
       "2013-06-01    22.463333\n",
       "2013-07-01    22.925806\n",
       "2013-08-01    20.941935\n",
       "2013-09-01    18.976667\n",
       "2013-10-01    17.732258\n",
       "2013-11-01    19.860000\n",
       "2013-12-01    13.900000\n",
       "2014-01-01    13.945161\n",
       "2014-02-01    15.682143\n",
       "2014-03-01    18.903226\n",
       "2014-04-01    21.840000\n",
       "2014-05-01    23.774194\n",
       "2014-06-01    26.293333\n",
       "2014-07-01    26.870968\n",
       "2014-08-01    23.874194\n",
       "2014-09-01    21.996667\n",
       "2014-10-01    20.680645\n",
       "2014-11-01    22.473333\n",
       "2014-12-01    15.838710\n",
       "2015-01-01    14.922581\n",
       "2015-02-01    16.546429\n",
       "2015-03-01    19.745161\n",
       "2015-04-01    23.533333\n",
       "2015-05-01    25.025806\n",
       "2015-06-01    26.640000\n",
       "2015-07-01    28.509677\n",
       "2015-08-01    25.064516\n",
       "2015-09-01    23.370000\n",
       "2015-10-01    21.432258\n",
       "2015-11-01    23.673333\n",
       "2015-12-01    15.974194\n",
       "2016-01-01    16.154839\n",
       "2016-02-01    17.793103\n",
       "2016-03-01    21.367742\n",
       "2016-04-01    25.656667\n",
       "2016-05-01    26.580645\n",
       "2016-06-01    29.503333\n",
       "2016-07-01    31.477419\n",
       "2016-08-01    26.374194\n",
       "2016-09-01    24.890000\n",
       "2016-10-01    23.325806\n",
       "2016-11-01    24.446667\n",
       "2016-12-01    18.316129\n",
       "2017-01-01    16.890323\n",
       "2017-02-01    18.925000\n",
       "2017-03-01    21.754839\n",
       "2017-04-01    26.423333\n",
       "2017-05-01    27.616129\n",
       "2017-06-01    29.766667\n",
       "2017-07-01    32.129032\n",
       "2017-08-01    27.574194\n",
       "2017-09-01    26.143333\n",
       "2017-10-01    24.580645\n",
       "2017-11-01    25.586667\n",
       "2017-12-01    18.738710\n",
       "Freq: MS, Name: sales, dtype: float64"
      ]
     },
     "execution_count": 23,
     "metadata": {},
     "output_type": "execute_result"
    }
   ],
   "source": [
    "y['2013':]"
   ]
  },
  {
   "cell_type": "markdown",
   "id": "cd8dbbdc",
   "metadata": {},
   "source": [
    "Now we will visualize the item sales monthly"
   ]
  },
  {
   "cell_type": "code",
   "execution_count": 25,
   "id": "f4e879cd",
   "metadata": {},
   "outputs": [
    {
     "data": {
      "image/png": "[encoded data removed]",
      "text/plain": [
       "<Figure size 1080x360 with 1 Axes>"
      ]
     },
     "metadata": {
      "needs_background": "light"
     },
     "output_type": "display_data"
    }
   ],
   "source": [
    "y.plot(figsize=(15,5))\n",
    "plt.show()"
   ]
  },
  {
   "cell_type": "code",
   "execution_count": 26,
   "id": "6ed467d7",
   "metadata": {},
   "outputs": [
    {
     "data": {
      "image/png": "[encoded data removed]",
      "text/plain": [
       "<Figure size 1296x576 with 4 Axes>"
      ]
     },
     "metadata": {
      "needs_background": "light"
     },
     "output_type": "display_data"
    }
   ],
   "source": [
    "from pylab import rcParams\n",
    "import statsmodels.api as sm\n",
    "rcParams['figure.figsize'] = 18,8\n",
    "\n",
    "decomposition = sm.tsa.seasonal_decompose(y, model='additive')\n",
    "fig = decomposition.plot()\n",
    "plt.show()"
   ]
  },
  {
   "cell_type": "markdown",
   "id": "b2234394",
   "metadata": {},
   "source": [
    "The above plots clearly shows that following sales of item is seasonal and has an inreasing trend year on year. Every in summer the demand for following item is at peak and as we move forward to year end demands start getting reduce has slight increase in demans around september and october and reach its lowest point in december and from then on it shows increasing trend. This trends is same for every year."
   ]
  },
  {
   "cell_type": "markdown",
   "id": "be79d816",
   "metadata": {},
   "source": [
    "### We will use ARIMA model for forcasting"
   ]
  },
  {
   "cell_type": "code",
   "execution_count": 27,
   "id": "4424fa43",
   "metadata": {},
   "outputs": [
    {
     "name": "stdout",
     "output_type": "stream",
     "text": [
      "p,d,q combination of ARIMA model\n",
      "ARIMAmax: (0, 0, 1) x (0, 0, 1, 12)\n",
      "ARIMAmax: (0, 0, 1) x (0, 0, 1, 12)\n",
      "ARIMAmax: (0, 1, 0) x (0, 1, 0, 12)\n",
      "ARIMAmax: (0, 1, 0) x (0, 1, 0, 12)\n"
     ]
    }
   ],
   "source": [
    "import itertools\n",
    "p = d = q = range(0,2)\n",
    "pdq = list(itertools.product(p, d, q))\n",
    "seasonal_pdq = [(x[0], x[1], x[2], 12) for x in list(itertools.product(p, d, q))] \n",
    "\n",
    "print('p,d,q combination of ARIMA model')\n",
    "print('ARIMAmax: {} x {}'.format(pdq[1], seasonal_pdq[1]))\n",
    "print('ARIMAmax: {} x {}'.format(pdq[1], seasonal_pdq[1]))\n",
    "print('ARIMAmax: {} x {}'.format(pdq[2], seasonal_pdq[2]))\n",
    "print('ARIMAmax: {} x {}'.format(pdq[2], seasonal_pdq[2]))"
   ]
  },
  {
   "cell_type": "markdown",
   "id": "2f074238",
   "metadata": {},
   "source": [
    "### Now we will find the optimal parameter of ARIMA model"
   ]
  },
  {
   "cell_type": "code",
   "execution_count": 28,
   "id": "9238db13",
   "metadata": {},
   "outputs": [
    {
     "name": "stdout",
     "output_type": "stream",
     "text": [
      "Optimization terminated successfully.\n",
      "         Current function value: 4.460986\n",
      "         Iterations: 15\n",
      "         Function evaluations: 30\n",
      "ARIMA Parameters: (0, 0, 0) x (0, 0, 0, 12)\n",
      "Optimization terminated successfully.\n",
      "         Current function value: 3.273019\n",
      "         Iterations: 112\n",
      "         Function evaluations: 211\n",
      "ARIMA Parameters: (0, 0, 0) x (0, 0, 1, 12)\n",
      "Optimization terminated successfully.\n",
      "         Current function value: 1.597344\n",
      "         Iterations: 12\n",
      "         Function evaluations: 24\n",
      "ARIMA Parameters: (0, 0, 0) x (0, 1, 0, 12)\n",
      "Optimization terminated successfully.\n",
      "         Current function value: 1.019459\n",
      "         Iterations: 163\n",
      "         Function evaluations: 356\n",
      "ARIMA Parameters: (0, 0, 0) x (0, 1, 1, 12)\n",
      "Optimization terminated successfully.\n",
      "         Current function value: 1.145499\n",
      "         Iterations: 24\n",
      "         Function evaluations: 48\n",
      "ARIMA Parameters: (0, 0, 0) x (1, 0, 0, 12)\n",
      "Optimization terminated successfully.\n",
      "         Current function value: 1.016196\n",
      "         Iterations: 58\n",
      "         Function evaluations: 108\n",
      "ARIMA Parameters: (0, 0, 0) x (1, 0, 1, 12)\n",
      "Optimization terminated successfully.\n",
      "         Current function value: 0.837408\n",
      "         Iterations: 19\n",
      "         Function evaluations: 39\n",
      "ARIMA Parameters: (0, 0, 0) x (1, 1, 0, 12)\n",
      "Optimization terminated successfully.\n",
      "         Current function value: 0.822091\n",
      "         Iterations: 47\n",
      "         Function evaluations: 87\n",
      "ARIMA Parameters: (0, 0, 0) x (1, 1, 1, 12)\n",
      "Optimization terminated successfully.\n",
      "         Current function value: 3.828889\n",
      "         Iterations: 46\n",
      "         Function evaluations: 92\n",
      "ARIMA Parameters: (0, 0, 1) x (0, 0, 0, 12)\n",
      "Optimization terminated successfully.\n",
      "         Current function value: 2.763662\n",
      "         Iterations: 144\n",
      "         Function evaluations: 264\n",
      "ARIMA Parameters: (0, 0, 1) x (0, 0, 1, 12)\n",
      "Optimization terminated successfully.\n",
      "         Current function value: 1.263557\n",
      "         Iterations: 31\n",
      "         Function evaluations: 62\n",
      "ARIMA Parameters: (0, 0, 1) x (0, 1, 0, 12)\n",
      "Optimization terminated successfully.\n",
      "         Current function value: 0.988229\n",
      "         Iterations: 172\n",
      "         Function evaluations: 342\n",
      "ARIMA Parameters: (0, 0, 1) x (0, 1, 1, 12)\n",
      "Optimization terminated successfully.\n",
      "         Current function value: 0.987608\n",
      "         Iterations: 129\n",
      "         Function evaluations: 233\n",
      "ARIMA Parameters: (0, 0, 1) x (1, 0, 0, 12)\n",
      "Warning: Maximum number of iterations has been exceeded.\n",
      "ARIMA Parameters: (0, 0, 1) x (1, 0, 1, 12)\n",
      "Optimization terminated successfully.\n",
      "         Current function value: 0.776555\n",
      "         Iterations: 69\n",
      "         Function evaluations: 120\n",
      "ARIMA Parameters: (0, 0, 1) x (1, 1, 0, 12)\n"
     ]
    },
    {
     "name": "stderr",
     "output_type": "stream",
     "text": [
      "C:\\Users\\Harshit Panchal\\.conda\\envs\\textenv\\lib\\site-packages\\statsmodels\\base\\model.py:604: ConvergenceWarning: Maximum Likelihood optimization failed to converge. Check mle_retvals\n",
      "  warnings.warn(\"Maximum Likelihood optimization failed to \"\n"
     ]
    },
    {
     "name": "stdout",
     "output_type": "stream",
     "text": [
      "Optimization terminated successfully.\n",
      "         Current function value: 0.747726\n",
      "         Iterations: 91\n",
      "         Function evaluations: 160\n",
      "ARIMA Parameters: (0, 0, 1) x (1, 1, 1, 12)\n",
      "Optimization terminated successfully.\n",
      "         Current function value: 2.432663\n",
      "         Iterations: 12\n",
      "         Function evaluations: 24\n",
      "ARIMA Parameters: (0, 1, 0) x (0, 0, 0, 12)\n",
      "Optimization terminated successfully.\n",
      "         Current function value: 1.672062\n",
      "         Iterations: 59\n",
      "         Function evaluations: 111\n",
      "ARIMA Parameters: (0, 1, 0) x (0, 0, 1, 12)\n",
      "Optimization terminated successfully.\n",
      "         Current function value: 0.845958\n",
      "         Iterations: 12\n",
      "         Function evaluations: 24\n",
      "ARIMA Parameters: (0, 1, 0) x (0, 1, 0, 12)\n",
      "Optimization terminated successfully.\n",
      "         Current function value: 0.664031\n",
      "         Iterations: 167\n",
      "         Function evaluations: 354\n",
      "ARIMA Parameters: (0, 1, 0) x (0, 1, 1, 12)\n",
      "Optimization terminated successfully.\n",
      "         Current function value: 0.850962\n",
      "         Iterations: 22\n",
      "         Function evaluations: 43\n",
      "ARIMA Parameters: (0, 1, 0) x (1, 0, 0, 12)\n",
      "Optimization terminated successfully.\n",
      "         Current function value: 0.799775\n",
      "         Iterations: 79\n",
      "         Function evaluations: 146\n",
      "ARIMA Parameters: (0, 1, 0) x (1, 0, 1, 12)\n",
      "Optimization terminated successfully.\n",
      "         Current function value: 0.636244\n",
      "         Iterations: 18\n",
      "         Function evaluations: 37\n",
      "ARIMA Parameters: (0, 1, 0) x (1, 1, 0, 12)\n",
      "Optimization terminated successfully.\n",
      "         Current function value: 0.641382\n",
      "         Iterations: 173\n",
      "         Function evaluations: 345\n",
      "ARIMA Parameters: (0, 1, 0) x (1, 1, 1, 12)\n",
      "Optimization terminated successfully.\n",
      "         Current function value: 2.378526\n",
      "         Iterations: 26\n",
      "         Function evaluations: 49\n",
      "ARIMA Parameters: (0, 1, 1) x (0, 0, 0, 12)\n",
      "Optimization terminated successfully.\n",
      "         Current function value: 1.625068\n",
      "         Iterations: 114\n",
      "         Function evaluations: 207\n",
      "ARIMA Parameters: (0, 1, 1) x (0, 0, 1, 12)\n",
      "Optimization terminated successfully.\n",
      "         Current function value: 0.779131\n",
      "         Iterations: 26\n",
      "         Function evaluations: 50\n",
      "ARIMA Parameters: (0, 1, 1) x (0, 1, 0, 12)\n",
      "Optimization terminated successfully.\n",
      "         Current function value: 0.542290\n",
      "         Iterations: 172\n",
      "         Function evaluations: 344\n",
      "ARIMA Parameters: (0, 1, 1) x (0, 1, 1, 12)\n",
      "Optimization terminated successfully.\n",
      "         Current function value: 0.775537\n",
      "         Iterations: 101\n",
      "         Function evaluations: 182\n",
      "ARIMA Parameters: (0, 1, 1) x (1, 0, 0, 12)\n",
      "Warning: Maximum number of iterations has been exceeded.\n",
      "ARIMA Parameters: (0, 1, 1) x (1, 0, 1, 12)\n",
      "Optimization terminated successfully.\n",
      "         Current function value: 0.530114\n",
      "         Iterations: 50\n",
      "         Function evaluations: 94\n",
      "ARIMA Parameters: (0, 1, 1) x (1, 1, 0, 12)\n"
     ]
    },
    {
     "name": "stderr",
     "output_type": "stream",
     "text": [
      "C:\\Users\\Harshit Panchal\\.conda\\envs\\textenv\\lib\\site-packages\\statsmodels\\base\\model.py:604: ConvergenceWarning: Maximum Likelihood optimization failed to converge. Check mle_retvals\n",
      "  warnings.warn(\"Maximum Likelihood optimization failed to \"\n"
     ]
    },
    {
     "name": "stdout",
     "output_type": "stream",
     "text": [
      "Warning: Maximum number of iterations has been exceeded.\n",
      "ARIMA Parameters: (0, 1, 1) x (1, 1, 1, 12)\n",
      "Optimization terminated successfully.\n",
      "         Current function value: 2.467670\n",
      "         Iterations: 24\n",
      "         Function evaluations: 49\n",
      "ARIMA Parameters: (1, 0, 0) x (0, 0, 0, 12)\n"
     ]
    },
    {
     "name": "stderr",
     "output_type": "stream",
     "text": [
      "C:\\Users\\Harshit Panchal\\.conda\\envs\\textenv\\lib\\site-packages\\statsmodels\\base\\model.py:604: ConvergenceWarning: Maximum Likelihood optimization failed to converge. Check mle_retvals\n",
      "  warnings.warn(\"Maximum Likelihood optimization failed to \"\n"
     ]
    },
    {
     "name": "stdout",
     "output_type": "stream",
     "text": [
      "Optimization terminated successfully.\n",
      "         Current function value: 1.705462\n",
      "         Iterations: 194\n",
      "         Function evaluations: 352\n",
      "ARIMA Parameters: (1, 0, 0) x (0, 0, 1, 12)\n",
      "Optimization terminated successfully.\n",
      "         Current function value: 0.838071\n",
      "         Iterations: 19\n",
      "         Function evaluations: 39\n",
      "ARIMA Parameters: (1, 0, 0) x (0, 1, 0, 12)\n",
      "Optimization terminated successfully.\n",
      "         Current function value: 0.968130\n",
      "         Iterations: 171\n",
      "         Function evaluations: 339\n",
      "ARIMA Parameters: (1, 0, 0) x (0, 1, 1, 12)\n",
      "Optimization terminated successfully.\n",
      "         Current function value: 0.805641\n",
      "         Iterations: 68\n",
      "         Function evaluations: 125\n",
      "ARIMA Parameters: (1, 0, 0) x (1, 0, 0, 12)\n",
      "Optimization terminated successfully.\n",
      "         Current function value: 0.758889\n",
      "         Iterations: 149\n",
      "         Function evaluations: 258\n",
      "ARIMA Parameters: (1, 0, 0) x (1, 0, 1, 12)\n",
      "Optimization terminated successfully.\n",
      "         Current function value: 0.625318\n",
      "         Iterations: 72\n",
      "         Function evaluations: 133\n",
      "ARIMA Parameters: (1, 0, 0) x (1, 1, 0, 12)\n",
      "Optimization terminated successfully.\n",
      "         Current function value: 0.625318\n",
      "         Iterations: 93\n",
      "         Function evaluations: 165\n",
      "ARIMA Parameters: (1, 0, 0) x (1, 1, 1, 12)\n",
      "Optimization terminated successfully.\n",
      "         Current function value: 2.418423\n",
      "         Iterations: 44\n",
      "         Function evaluations: 82\n",
      "ARIMA Parameters: (1, 0, 1) x (0, 0, 0, 12)\n",
      "Warning: Maximum number of iterations has been exceeded.\n",
      "ARIMA Parameters: (1, 0, 1) x (0, 0, 1, 12)\n",
      "Optimization terminated successfully.\n",
      "         Current function value: 0.779937\n",
      "         Iterations: 44\n",
      "         Function evaluations: 84\n",
      "ARIMA Parameters: (1, 0, 1) x (0, 1, 0, 12)\n"
     ]
    },
    {
     "name": "stderr",
     "output_type": "stream",
     "text": [
      "C:\\Users\\Harshit Panchal\\.conda\\envs\\textenv\\lib\\site-packages\\statsmodels\\base\\model.py:604: ConvergenceWarning: Maximum Likelihood optimization failed to converge. Check mle_retvals\n",
      "  warnings.warn(\"Maximum Likelihood optimization failed to \"\n"
     ]
    },
    {
     "name": "stdout",
     "output_type": "stream",
     "text": [
      "Warning: Maximum number of iterations has been exceeded.\n",
      "ARIMA Parameters: (1, 0, 1) x (0, 1, 1, 12)\n",
      "Warning: Maximum number of iterations has been exceeded.\n"
     ]
    },
    {
     "name": "stderr",
     "output_type": "stream",
     "text": [
      "C:\\Users\\Harshit Panchal\\.conda\\envs\\textenv\\lib\\site-packages\\statsmodels\\base\\model.py:604: ConvergenceWarning: Maximum Likelihood optimization failed to converge. Check mle_retvals\n",
      "  warnings.warn(\"Maximum Likelihood optimization failed to \"\n",
      "C:\\Users\\Harshit Panchal\\.conda\\envs\\textenv\\lib\\site-packages\\statsmodels\\base\\model.py:604: ConvergenceWarning: Maximum Likelihood optimization failed to converge. Check mle_retvals\n",
      "  warnings.warn(\"Maximum Likelihood optimization failed to \"\n"
     ]
    },
    {
     "name": "stdout",
     "output_type": "stream",
     "text": [
      "ARIMA Parameters: (1, 0, 1) x (1, 0, 0, 12)\n",
      "Warning: Maximum number of iterations has been exceeded.\n",
      "ARIMA Parameters: (1, 0, 1) x (1, 0, 1, 12)\n"
     ]
    },
    {
     "name": "stderr",
     "output_type": "stream",
     "text": [
      "C:\\Users\\Harshit Panchal\\.conda\\envs\\textenv\\lib\\site-packages\\statsmodels\\base\\model.py:604: ConvergenceWarning: Maximum Likelihood optimization failed to converge. Check mle_retvals\n",
      "  warnings.warn(\"Maximum Likelihood optimization failed to \"\n"
     ]
    },
    {
     "name": "stdout",
     "output_type": "stream",
     "text": [
      "Optimization terminated successfully.\n",
      "         Current function value: 0.527594\n",
      "         Iterations: 139\n",
      "         Function evaluations: 234\n",
      "ARIMA Parameters: (1, 0, 1) x (1, 1, 0, 12)\n",
      "Optimization terminated successfully.\n",
      "         Current function value: 0.517810\n",
      "         Iterations: 150\n",
      "         Function evaluations: 247\n",
      "ARIMA Parameters: (1, 0, 1) x (1, 1, 1, 12)\n",
      "Optimization terminated successfully.\n",
      "         Current function value: 2.415768\n",
      "         Iterations: 20\n",
      "         Function evaluations: 41\n",
      "ARIMA Parameters: (1, 1, 0) x (0, 0, 0, 12)\n",
      "Optimization terminated successfully.\n",
      "         Current function value: 1.659283\n",
      "         Iterations: 104\n",
      "         Function evaluations: 192\n",
      "ARIMA Parameters: (1, 1, 0) x (0, 0, 1, 12)\n",
      "Optimization terminated successfully.\n",
      "         Current function value: 0.785063\n",
      "         Iterations: 19\n",
      "         Function evaluations: 39\n",
      "ARIMA Parameters: (1, 1, 0) x (0, 1, 0, 12)\n",
      "Optimization terminated successfully.\n",
      "         Current function value: 0.574237\n",
      "         Iterations: 177\n",
      "         Function evaluations: 353\n",
      "ARIMA Parameters: (1, 1, 0) x (0, 1, 1, 12)\n",
      "Optimization terminated successfully.\n",
      "         Current function value: 0.762850\n",
      "         Iterations: 97\n",
      "         Function evaluations: 173\n",
      "ARIMA Parameters: (1, 1, 0) x (1, 0, 0, 12)\n",
      "Warning: Maximum number of iterations has been exceeded.\n",
      "ARIMA Parameters: (1, 1, 0) x (1, 0, 1, 12)\n",
      "Optimization terminated successfully.\n",
      "         Current function value: 0.526339\n",
      "         Iterations: 53\n",
      "         Function evaluations: 99\n",
      "ARIMA Parameters: (1, 1, 0) x (1, 1, 0, 12)\n"
     ]
    },
    {
     "name": "stderr",
     "output_type": "stream",
     "text": [
      "C:\\Users\\Harshit Panchal\\.conda\\envs\\textenv\\lib\\site-packages\\statsmodels\\base\\model.py:604: ConvergenceWarning: Maximum Likelihood optimization failed to converge. Check mle_retvals\n",
      "  warnings.warn(\"Maximum Likelihood optimization failed to \"\n"
     ]
    },
    {
     "name": "stdout",
     "output_type": "stream",
     "text": [
      "Warning: Maximum number of iterations has been exceeded.\n",
      "ARIMA Parameters: (1, 1, 0) x (1, 1, 1, 12)\n",
      "Optimization terminated successfully.\n",
      "         Current function value: 2.373793\n",
      "         Iterations: 65\n",
      "         Function evaluations: 116\n",
      "ARIMA Parameters: (1, 1, 1) x (0, 0, 0, 12)\n"
     ]
    },
    {
     "name": "stderr",
     "output_type": "stream",
     "text": [
      "C:\\Users\\Harshit Panchal\\.conda\\envs\\textenv\\lib\\site-packages\\statsmodels\\base\\model.py:604: ConvergenceWarning: Maximum Likelihood optimization failed to converge. Check mle_retvals\n",
      "  warnings.warn(\"Maximum Likelihood optimization failed to \"\n"
     ]
    },
    {
     "name": "stdout",
     "output_type": "stream",
     "text": [
      "Warning: Maximum number of iterations has been exceeded.\n",
      "ARIMA Parameters: (1, 1, 1) x (0, 0, 1, 12)\n",
      "Optimization terminated successfully.\n",
      "         Current function value: 0.773565\n",
      "         Iterations: 53\n",
      "         Function evaluations: 92\n",
      "ARIMA Parameters: (1, 1, 1) x (0, 1, 0, 12)\n"
     ]
    },
    {
     "name": "stderr",
     "output_type": "stream",
     "text": [
      "C:\\Users\\Harshit Panchal\\.conda\\envs\\textenv\\lib\\site-packages\\statsmodels\\base\\model.py:604: ConvergenceWarning: Maximum Likelihood optimization failed to converge. Check mle_retvals\n",
      "  warnings.warn(\"Maximum Likelihood optimization failed to \"\n"
     ]
    },
    {
     "name": "stdout",
     "output_type": "stream",
     "text": [
      "Warning: Maximum number of iterations has been exceeded.\n",
      "ARIMA Parameters: (1, 1, 1) x (0, 1, 1, 12)\n"
     ]
    },
    {
     "name": "stderr",
     "output_type": "stream",
     "text": [
      "C:\\Users\\Harshit Panchal\\.conda\\envs\\textenv\\lib\\site-packages\\statsmodels\\base\\model.py:604: ConvergenceWarning: Maximum Likelihood optimization failed to converge. Check mle_retvals\n",
      "  warnings.warn(\"Maximum Likelihood optimization failed to \"\n"
     ]
    },
    {
     "name": "stdout",
     "output_type": "stream",
     "text": [
      "Warning: Maximum number of iterations has been exceeded.\n",
      "ARIMA Parameters: (1, 1, 1) x (1, 0, 0, 12)\n"
     ]
    },
    {
     "name": "stderr",
     "output_type": "stream",
     "text": [
      "C:\\Users\\Harshit Panchal\\.conda\\envs\\textenv\\lib\\site-packages\\statsmodels\\base\\model.py:604: ConvergenceWarning: Maximum Likelihood optimization failed to converge. Check mle_retvals\n",
      "  warnings.warn(\"Maximum Likelihood optimization failed to \"\n"
     ]
    },
    {
     "name": "stdout",
     "output_type": "stream",
     "text": [
      "Warning: Maximum number of iterations has been exceeded.\n",
      "ARIMA Parameters: (1, 1, 1) x (1, 0, 1, 12)\n"
     ]
    },
    {
     "name": "stderr",
     "output_type": "stream",
     "text": [
      "C:\\Users\\Harshit Panchal\\.conda\\envs\\textenv\\lib\\site-packages\\statsmodels\\base\\model.py:604: ConvergenceWarning: Maximum Likelihood optimization failed to converge. Check mle_retvals\n",
      "  warnings.warn(\"Maximum Likelihood optimization failed to \"\n"
     ]
    },
    {
     "name": "stdout",
     "output_type": "stream",
     "text": [
      "Optimization terminated successfully.\n",
      "         Current function value: 0.514301\n",
      "         Iterations: 112\n",
      "         Function evaluations: 194\n",
      "ARIMA Parameters: (1, 1, 1) x (1, 1, 0, 12)\n",
      "Warning: Maximum number of iterations has been exceeded.\n",
      "ARIMA Parameters: (1, 1, 1) x (1, 1, 1, 12)\n"
     ]
    },
    {
     "name": "stderr",
     "output_type": "stream",
     "text": [
      "C:\\Users\\Harshit Panchal\\.conda\\envs\\textenv\\lib\\site-packages\\statsmodels\\base\\model.py:604: ConvergenceWarning: Maximum Likelihood optimization failed to converge. Check mle_retvals\n",
      "  warnings.warn(\"Maximum Likelihood optimization failed to \"\n"
     ]
    }
   ],
   "source": [
    "for param in pdq:\n",
    "    for param_seasonal in seasonal_pdq:\n",
    "        try:\n",
    "            mod=sm.tsa.statespace.SARIMAX(y, order=param,\n",
    "                                         seasonal_order=param_seasonal,\n",
    "                                         enforce_stationarity=False,\n",
    "                                         enforce_invertibility=False)\n",
    "            results = mod.fit(maxiter=200, method='nm')\n",
    "            print('ARIMA Parameters: {} x {}'.format(param,param_seasonal, results.aic))\n",
    "        except:\n",
    "            continue"
   ]
  },
  {
   "cell_type": "markdown",
   "id": "ba8a98f3",
   "metadata": {},
   "source": [
    "From here we can see optimal parameter of ARIMA model is **(1, 1, 1) x (1, 1, 1, 12)** at an **iteration of 112** and **optimal function value is 0.5412**"
   ]
  },
  {
   "cell_type": "markdown",
   "id": "9dc251c4",
   "metadata": {},
   "source": [
    "### Fitting the ARIMA model"
   ]
  },
  {
   "cell_type": "code",
   "execution_count": 29,
   "id": "7ae4de0c",
   "metadata": {},
   "outputs": [
    {
     "name": "stdout",
     "output_type": "stream",
     "text": [
      "==============================================================================\n",
      "                 coef    std err          z      P>|z|      [0.025      0.975]\n",
      "------------------------------------------------------------------------------\n",
      "ar.L1         -0.3017         -0        inf      0.000      -0.302      -0.302\n",
      "ma.L1         -0.1111         -0        inf      0.000      -0.111      -0.111\n",
      "ar.S.L12      -0.3430   3.24e-35  -1.06e+34      0.000      -0.343      -0.343\n",
      "ma.S.L12    8.051e+13   7.79e-33   1.03e+46      0.000    8.05e+13    8.05e+13\n",
      "sigma2      6.085e-13    3.3e-10      0.002      0.999   -6.47e-10    6.48e-10\n",
      "==============================================================================\n"
     ]
    },
    {
     "name": "stderr",
     "output_type": "stream",
     "text": [
      "C:\\Users\\Harshit Panchal\\.conda\\envs\\textenv\\lib\\site-packages\\statsmodels\\base\\model.py:604: ConvergenceWarning: Maximum Likelihood optimization failed to converge. Check mle_retvals\n",
      "  warnings.warn(\"Maximum Likelihood optimization failed to \"\n",
      "C:\\Users\\Harshit Panchal\\.conda\\envs\\textenv\\lib\\site-packages\\statsmodels\\tsa\\statespace\\mlemodel.py:2968: RuntimeWarning: divide by zero encountered in true_divide\n",
      "  return self.params / self.bse\n"
     ]
    }
   ],
   "source": [
    "mod = sm.tsa.statespace.SARIMAX(y,\n",
    "                               order=(1, 1, 1),\n",
    "                               seasonal_order=(1, 1, 1, 12),\n",
    "                               enforce_stationarity=False,\n",
    "                               enforce_invertibility=False)\n",
    "results = mod.fit()\n",
    "print(results.summary().tables[1])"
   ]
  },
  {
   "cell_type": "code",
   "execution_count": 30,
   "id": "6a7fd143",
   "metadata": {},
   "outputs": [
    {
     "data": {
      "image/png": "[encoded data removed]",
      "text/plain": [
       "<Figure size 1728x864 with 4 Axes>"
      ]
     },
     "metadata": {
      "needs_background": "light"
     },
     "output_type": "display_data"
    }
   ],
   "source": [
    "results.plot_diagnostics(figsize=(24,12))\n",
    "plt.show()"
   ]
  },
  {
   "cell_type": "markdown",
   "id": "5c3f8530",
   "metadata": {},
   "source": [
    "VALIDATION OF FORECAST"
   ]
  },
  {
   "cell_type": "code",
   "execution_count": 32,
   "id": "6b2a562e",
   "metadata": {},
   "outputs": [
    {
     "name": "stdout",
     "output_type": "stream",
     "text": [
      "             lower sales   upper sales\n",
      "2018-01-01 -1.230908e+08  1.230909e+08\n",
      "2018-01-01   -1.230908e+08\n",
      "Freq: MS, Name: lower sales, dtype: float64\n",
      "2018-01-01    1.230909e+08\n",
      "Freq: MS, Name: upper sales, dtype: float64\n"
     ]
    }
   ],
   "source": [
    "prediction = results.get_prediction(start=pd.to_datetime('2018-01-01'), dynamic=False)\n",
    "prediction_ci = prediction.conf_int()\n",
    "print(prediction_ci)\n",
    "minimum = prediction_ci['lower sales']\n",
    "print(minimum) \n",
    "maximum = prediction_ci['upper sales']\n",
    "print(maximum)"
   ]
  },
  {
   "cell_type": "code",
   "execution_count": 33,
   "id": "6e7e5600",
   "metadata": {},
   "outputs": [
    {
     "data": {
      "text/plain": [
       "<AxesSubplot:xlabel='date'>"
      ]
     },
     "execution_count": 33,
     "metadata": {},
     "output_type": "execute_result"
    },
    {
     "data": {
      "image/png": "[encoded data removed]",
      "text/plain": [
       "<Figure size 1296x648 with 1 Axes>"
      ]
     },
     "metadata": {
      "needs_background": "light"
     },
     "output_type": "display_data"
    }
   ],
   "source": [
    "ax = y['2013':].plot(label='observed')\n",
    "prediction.predicted_mean.plot(ax=ax, label='forcasting of item sales', alpha=0.9, figsize=(18,9))\n"
   ]
  },
  {
   "cell_type": "code",
   "execution_count": 38,
   "id": "1426a8fb",
   "metadata": {},
   "outputs": [
    {
     "data": {
      "image/png": "[encoded data removed]",
      "text/plain": [
       "<Figure size 1008x504 with 1 Axes>"
      ]
     },
     "metadata": {
      "needs_background": "light"
     },
     "output_type": "display_data"
    }
   ],
   "source": [
    "pred = results.get_prediction(start=pd.to_datetime('2017-01-01'), dynamic=False)\n",
    "pred_ci = pred.conf_int()\n",
    "\n",
    "ax = y['2014':].plot(label='observed')\n",
    "pred.predicted_mean.plot(ax=ax, label='One-step ahead Forecast', alpha=.7, figsize=(14, 7))\n",
    "\n",
    "ax.fill_between(pred_ci.index,\n",
    "                pred_ci.iloc[:, 0],\n",
    "                pred_ci.iloc[:, 1], color='k', alpha=.2)\n",
    "\n",
    "ax.set_xlabel('Date')\n",
    "ax.set_ylabel('Sales')\n",
    "plt.legend()\n",
    "\n",
    "plt.show()"
   ]
  },
  {
   "cell_type": "code",
   "execution_count": 35,
   "id": "04667153",
   "metadata": {},
   "outputs": [
    {
     "name": "stdout",
     "output_type": "stream",
     "text": [
      "The Mean Squared Error of our forecasts is 0.13\n"
     ]
    }
   ],
   "source": [
    "y_forecasted = pred.predicted_mean\n",
    "y_truth = y['2017-01-01':]\n",
    "\n",
    "# Compute the mean square error\n",
    "mse = ((y_forecasted - y_truth) ** 2).mean()\n",
    "print('The Mean Squared Error of our forecasts is {}'.format(round(mse, 2)))"
   ]
  },
  {
   "cell_type": "code",
   "execution_count": 40,
   "id": "45b5dad8",
   "metadata": {},
   "outputs": [
    {
     "data": {
      "image/png": "[encoded data removed]",
      "text/plain": [
       "<Figure size 1008x504 with 1 Axes>"
      ]
     },
     "metadata": {
      "needs_background": "light"
     },
     "output_type": "display_data"
    }
   ],
   "source": [
    "pred_uc = results.get_forecast(steps=10)\n",
    "pred_ci = pred_uc.conf_int()\n",
    "\n",
    "ax = y.plot(label='observed', figsize=(14, 7))\n",
    "pred_uc.predicted_mean.plot(ax=ax, label='Forecast')\n",
    "ax.fill_between(pred_ci.index,\n",
    "                pred_ci.iloc[:, 0],\n",
    "                pred_ci.iloc[:, 1], color='k', alpha=.25)\n",
    "ax.set_xlabel('Date')\n",
    "ax.set_ylabel('Furniture Sales')\n",
    "\n",
    "plt.legend()\n",
    "plt.show()"
   ]
  },
  {
   "cell_type": "markdown",
   "id": "89524d89",
   "metadata": {},
   "source": [
    "We can observe that the mean square error is 0.13 and the forcast but we cannot see an exact forecast we will move to more advance forcasting technique which is fbprophet."
   ]
  },
  {
   "cell_type": "code",
   "execution_count": null,
   "id": "419836ca",
   "metadata": {},
   "outputs": [],
   "source": []
  }
 ],
 "metadata": {
  "kernelspec": {
   "display_name": "Python 3",
   "language": "python",
   "name": "python3"
  },
  "language_info": {
   "codemirror_mode": {
    "name": "ipython",
    "version": 3
   },
   "file_extension": ".py",
   "mimetype": "text/x-python",
   "name": "python",
   "nbconvert_exporter": "python",
   "pygments_lexer": "ipython3",
   "version": "3.8.8"
  }
 },
 "nbformat": 4,
 "nbformat_minor": 5
}
